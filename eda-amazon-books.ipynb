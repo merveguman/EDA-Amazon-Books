{
 "cells": [
  {
   "cell_type": "code",
   "execution_count": 1,
   "id": "a77f0ff5",
   "metadata": {
    "_cell_guid": "b1076dfc-b9ad-4769-8c92-a6c4dae69d19",
    "_uuid": "8f2839f25d086af736a60e9eeb907d3b93b6e0e5",
    "execution": {
     "iopub.execute_input": "2021-09-03T14:11:21.070524Z",
     "iopub.status.busy": "2021-09-03T14:11:21.069869Z",
     "iopub.status.idle": "2021-09-03T14:11:21.083115Z",
     "shell.execute_reply": "2021-09-03T14:11:21.083622Z",
     "shell.execute_reply.started": "2021-09-03T14:04:06.534981Z"
    },
    "jupyter": {
     "source_hidden": true
    },
    "papermill": {
     "duration": 0.048674,
     "end_time": "2021-09-03T14:11:21.083970",
     "exception": false,
     "start_time": "2021-09-03T14:11:21.035296",
     "status": "completed"
    },
    "tags": []
   },
   "outputs": [
    {
     "name": "stdout",
     "output_type": "stream",
     "text": [
      "/kaggle/input/amazon-top-50-bestselling-books-2009-2019/bestsellers with categories.csv\n"
     ]
    }
   ],
   "source": [
    "# This Python 3 environment comes with many helpful analytics libraries installed\n",
    "# It is defined by the kaggle/python Docker image: https://github.com/kaggle/docker-python\n",
    "# For example, here's several helpful packages to load\n",
    "\n",
    "import numpy as np # linear algebra\n",
    "import pandas as pd # data processing, CSV file I/O (e.g. pd.read_csv)\n",
    "\n",
    "# Input data files are available in the read-only \"../input/\" directory\n",
    "# For example, running this (by clicking run or pressing Shift+Enter) will list all files under the input directory\n",
    "\n",
    "import os\n",
    "for dirname, _, filenames in os.walk('/kaggle/input'):\n",
    "    for filename in filenames:\n",
    "        print(os.path.join(dirname, filename))\n",
    "\n",
    "# You can write up to 20GB to the current directory (/kaggle/working/) that gets preserved as output when you create a version using \"Save & Run All\" \n",
    "# You can also write temporary files to /kaggle/temp/, but they won't be saved outside of the current session"
   ]
  },
  {
   "cell_type": "markdown",
   "id": "c3d7759c",
   "metadata": {
    "papermill": {
     "duration": 0.020835,
     "end_time": "2021-09-03T14:11:21.125636",
     "exception": false,
     "start_time": "2021-09-03T14:11:21.104801",
     "status": "completed"
    },
    "tags": []
   },
   "source": [
    "This notebook is dedicated to exploratory data analysis of Amazon books dataset. Below you can find top 50 bestselling books data between 2009 and 2019."
   ]
  },
  {
   "cell_type": "code",
   "execution_count": 2,
   "id": "c32c241a",
   "metadata": {
    "execution": {
     "iopub.execute_input": "2021-09-03T14:11:21.169845Z",
     "iopub.status.busy": "2021-09-03T14:11:21.169055Z",
     "iopub.status.idle": "2021-09-03T14:11:23.525250Z",
     "shell.execute_reply": "2021-09-03T14:11:23.525832Z",
     "shell.execute_reply.started": "2021-09-03T14:04:06.549539Z"
    },
    "jupyter": {
     "source_hidden": true
    },
    "papermill": {
     "duration": 2.380922,
     "end_time": "2021-09-03T14:11:23.526021",
     "exception": false,
     "start_time": "2021-09-03T14:11:21.145099",
     "status": "completed"
    },
    "tags": []
   },
   "outputs": [],
   "source": [
    "import numpy as np\n",
    "import pandas as pd\n",
    "import matplotlib.pyplot as plt\n",
    "import seaborn as sns\n",
    "import plotly.express as px"
   ]
  },
  {
   "cell_type": "code",
   "execution_count": 3,
   "id": "daefd13d",
   "metadata": {
    "execution": {
     "iopub.execute_input": "2021-09-03T14:11:23.569617Z",
     "iopub.status.busy": "2021-09-03T14:11:23.568724Z",
     "iopub.status.idle": "2021-09-03T14:11:23.613517Z",
     "shell.execute_reply": "2021-09-03T14:11:23.614050Z",
     "shell.execute_reply.started": "2021-09-03T14:04:06.565084Z"
    },
    "papermill": {
     "duration": 0.06838,
     "end_time": "2021-09-03T14:11:23.614211",
     "exception": false,
     "start_time": "2021-09-03T14:11:23.545831",
     "status": "completed"
    },
    "tags": []
   },
   "outputs": [
    {
     "data": {
      "text/html": [
       "<div>\n",
       "<style scoped>\n",
       "    .dataframe tbody tr th:only-of-type {\n",
       "        vertical-align: middle;\n",
       "    }\n",
       "\n",
       "    .dataframe tbody tr th {\n",
       "        vertical-align: top;\n",
       "    }\n",
       "\n",
       "    .dataframe thead th {\n",
       "        text-align: right;\n",
       "    }\n",
       "</style>\n",
       "<table border=\"1\" class=\"dataframe\">\n",
       "  <thead>\n",
       "    <tr style=\"text-align: right;\">\n",
       "      <th></th>\n",
       "      <th>Name</th>\n",
       "      <th>Author</th>\n",
       "      <th>User Rating</th>\n",
       "      <th>Reviews</th>\n",
       "      <th>Price</th>\n",
       "      <th>Year</th>\n",
       "      <th>Genre</th>\n",
       "    </tr>\n",
       "  </thead>\n",
       "  <tbody>\n",
       "    <tr>\n",
       "      <th>0</th>\n",
       "      <td>10-Day Green Smoothie Cleanse</td>\n",
       "      <td>JJ Smith</td>\n",
       "      <td>4.7</td>\n",
       "      <td>17350</td>\n",
       "      <td>8</td>\n",
       "      <td>2016</td>\n",
       "      <td>Non Fiction</td>\n",
       "    </tr>\n",
       "    <tr>\n",
       "      <th>1</th>\n",
       "      <td>11/22/63: A Novel</td>\n",
       "      <td>Stephen King</td>\n",
       "      <td>4.6</td>\n",
       "      <td>2052</td>\n",
       "      <td>22</td>\n",
       "      <td>2011</td>\n",
       "      <td>Fiction</td>\n",
       "    </tr>\n",
       "    <tr>\n",
       "      <th>2</th>\n",
       "      <td>12 Rules for Life: An Antidote to Chaos</td>\n",
       "      <td>Jordan B. Peterson</td>\n",
       "      <td>4.7</td>\n",
       "      <td>18979</td>\n",
       "      <td>15</td>\n",
       "      <td>2018</td>\n",
       "      <td>Non Fiction</td>\n",
       "    </tr>\n",
       "    <tr>\n",
       "      <th>3</th>\n",
       "      <td>1984 (Signet Classics)</td>\n",
       "      <td>George Orwell</td>\n",
       "      <td>4.7</td>\n",
       "      <td>21424</td>\n",
       "      <td>6</td>\n",
       "      <td>2017</td>\n",
       "      <td>Fiction</td>\n",
       "    </tr>\n",
       "    <tr>\n",
       "      <th>4</th>\n",
       "      <td>5,000 Awesome Facts (About Everything!) (Natio...</td>\n",
       "      <td>National Geographic Kids</td>\n",
       "      <td>4.8</td>\n",
       "      <td>7665</td>\n",
       "      <td>12</td>\n",
       "      <td>2019</td>\n",
       "      <td>Non Fiction</td>\n",
       "    </tr>\n",
       "    <tr>\n",
       "      <th>...</th>\n",
       "      <td>...</td>\n",
       "      <td>...</td>\n",
       "      <td>...</td>\n",
       "      <td>...</td>\n",
       "      <td>...</td>\n",
       "      <td>...</td>\n",
       "      <td>...</td>\n",
       "    </tr>\n",
       "    <tr>\n",
       "      <th>545</th>\n",
       "      <td>Wrecking Ball (Diary of a Wimpy Kid Book 14)</td>\n",
       "      <td>Jeff Kinney</td>\n",
       "      <td>4.9</td>\n",
       "      <td>9413</td>\n",
       "      <td>8</td>\n",
       "      <td>2019</td>\n",
       "      <td>Fiction</td>\n",
       "    </tr>\n",
       "    <tr>\n",
       "      <th>546</th>\n",
       "      <td>You Are a Badass: How to Stop Doubting Your Gr...</td>\n",
       "      <td>Jen Sincero</td>\n",
       "      <td>4.7</td>\n",
       "      <td>14331</td>\n",
       "      <td>8</td>\n",
       "      <td>2016</td>\n",
       "      <td>Non Fiction</td>\n",
       "    </tr>\n",
       "    <tr>\n",
       "      <th>547</th>\n",
       "      <td>You Are a Badass: How to Stop Doubting Your Gr...</td>\n",
       "      <td>Jen Sincero</td>\n",
       "      <td>4.7</td>\n",
       "      <td>14331</td>\n",
       "      <td>8</td>\n",
       "      <td>2017</td>\n",
       "      <td>Non Fiction</td>\n",
       "    </tr>\n",
       "    <tr>\n",
       "      <th>548</th>\n",
       "      <td>You Are a Badass: How to Stop Doubting Your Gr...</td>\n",
       "      <td>Jen Sincero</td>\n",
       "      <td>4.7</td>\n",
       "      <td>14331</td>\n",
       "      <td>8</td>\n",
       "      <td>2018</td>\n",
       "      <td>Non Fiction</td>\n",
       "    </tr>\n",
       "    <tr>\n",
       "      <th>549</th>\n",
       "      <td>You Are a Badass: How to Stop Doubting Your Gr...</td>\n",
       "      <td>Jen Sincero</td>\n",
       "      <td>4.7</td>\n",
       "      <td>14331</td>\n",
       "      <td>8</td>\n",
       "      <td>2019</td>\n",
       "      <td>Non Fiction</td>\n",
       "    </tr>\n",
       "  </tbody>\n",
       "</table>\n",
       "<p>550 rows × 7 columns</p>\n",
       "</div>"
      ],
      "text/plain": [
       "                                                  Name  \\\n",
       "0                        10-Day Green Smoothie Cleanse   \n",
       "1                                    11/22/63: A Novel   \n",
       "2              12 Rules for Life: An Antidote to Chaos   \n",
       "3                               1984 (Signet Classics)   \n",
       "4    5,000 Awesome Facts (About Everything!) (Natio...   \n",
       "..                                                 ...   \n",
       "545       Wrecking Ball (Diary of a Wimpy Kid Book 14)   \n",
       "546  You Are a Badass: How to Stop Doubting Your Gr...   \n",
       "547  You Are a Badass: How to Stop Doubting Your Gr...   \n",
       "548  You Are a Badass: How to Stop Doubting Your Gr...   \n",
       "549  You Are a Badass: How to Stop Doubting Your Gr...   \n",
       "\n",
       "                       Author  User Rating  Reviews  Price  Year        Genre  \n",
       "0                    JJ Smith          4.7    17350      8  2016  Non Fiction  \n",
       "1                Stephen King          4.6     2052     22  2011      Fiction  \n",
       "2          Jordan B. Peterson          4.7    18979     15  2018  Non Fiction  \n",
       "3               George Orwell          4.7    21424      6  2017      Fiction  \n",
       "4    National Geographic Kids          4.8     7665     12  2019  Non Fiction  \n",
       "..                        ...          ...      ...    ...   ...          ...  \n",
       "545               Jeff Kinney          4.9     9413      8  2019      Fiction  \n",
       "546               Jen Sincero          4.7    14331      8  2016  Non Fiction  \n",
       "547               Jen Sincero          4.7    14331      8  2017  Non Fiction  \n",
       "548               Jen Sincero          4.7    14331      8  2018  Non Fiction  \n",
       "549               Jen Sincero          4.7    14331      8  2019  Non Fiction  \n",
       "\n",
       "[550 rows x 7 columns]"
      ]
     },
     "execution_count": 3,
     "metadata": {},
     "output_type": "execute_result"
    }
   ],
   "source": [
    "#Load the data\n",
    "df=pd.read_csv(\"../input/amazon-top-50-bestselling-books-2009-2019/bestsellers with categories.csv\")\n",
    "df"
   ]
  },
  {
   "cell_type": "code",
   "execution_count": 4,
   "id": "ebf827bd",
   "metadata": {
    "execution": {
     "iopub.execute_input": "2021-09-03T14:11:23.658851Z",
     "iopub.status.busy": "2021-09-03T14:11:23.657866Z",
     "iopub.status.idle": "2021-09-03T14:11:23.688842Z",
     "shell.execute_reply": "2021-09-03T14:11:23.689346Z",
     "shell.execute_reply.started": "2021-09-03T14:04:06.602741Z"
    },
    "papermill": {
     "duration": 0.054907,
     "end_time": "2021-09-03T14:11:23.689507",
     "exception": false,
     "start_time": "2021-09-03T14:11:23.634600",
     "status": "completed"
    },
    "tags": []
   },
   "outputs": [
    {
     "data": {
      "text/html": [
       "<div>\n",
       "<style scoped>\n",
       "    .dataframe tbody tr th:only-of-type {\n",
       "        vertical-align: middle;\n",
       "    }\n",
       "\n",
       "    .dataframe tbody tr th {\n",
       "        vertical-align: top;\n",
       "    }\n",
       "\n",
       "    .dataframe thead th {\n",
       "        text-align: right;\n",
       "    }\n",
       "</style>\n",
       "<table border=\"1\" class=\"dataframe\">\n",
       "  <thead>\n",
       "    <tr style=\"text-align: right;\">\n",
       "      <th></th>\n",
       "      <th>count</th>\n",
       "      <th>mean</th>\n",
       "      <th>std</th>\n",
       "      <th>min</th>\n",
       "      <th>25%</th>\n",
       "      <th>50%</th>\n",
       "      <th>75%</th>\n",
       "      <th>max</th>\n",
       "    </tr>\n",
       "  </thead>\n",
       "  <tbody>\n",
       "    <tr>\n",
       "      <th>User Rating</th>\n",
       "      <td>550.0</td>\n",
       "      <td>4.618364</td>\n",
       "      <td>0.226980</td>\n",
       "      <td>3.3</td>\n",
       "      <td>4.5</td>\n",
       "      <td>4.7</td>\n",
       "      <td>4.80</td>\n",
       "      <td>4.9</td>\n",
       "    </tr>\n",
       "    <tr>\n",
       "      <th>Reviews</th>\n",
       "      <td>550.0</td>\n",
       "      <td>11953.281818</td>\n",
       "      <td>11731.132017</td>\n",
       "      <td>37.0</td>\n",
       "      <td>4058.0</td>\n",
       "      <td>8580.0</td>\n",
       "      <td>17253.25</td>\n",
       "      <td>87841.0</td>\n",
       "    </tr>\n",
       "    <tr>\n",
       "      <th>Price</th>\n",
       "      <td>550.0</td>\n",
       "      <td>13.100000</td>\n",
       "      <td>10.842262</td>\n",
       "      <td>0.0</td>\n",
       "      <td>7.0</td>\n",
       "      <td>11.0</td>\n",
       "      <td>16.00</td>\n",
       "      <td>105.0</td>\n",
       "    </tr>\n",
       "    <tr>\n",
       "      <th>Year</th>\n",
       "      <td>550.0</td>\n",
       "      <td>2014.000000</td>\n",
       "      <td>3.165156</td>\n",
       "      <td>2009.0</td>\n",
       "      <td>2011.0</td>\n",
       "      <td>2014.0</td>\n",
       "      <td>2017.00</td>\n",
       "      <td>2019.0</td>\n",
       "    </tr>\n",
       "  </tbody>\n",
       "</table>\n",
       "</div>"
      ],
      "text/plain": [
       "             count          mean           std     min     25%     50%  \\\n",
       "User Rating  550.0      4.618364      0.226980     3.3     4.5     4.7   \n",
       "Reviews      550.0  11953.281818  11731.132017    37.0  4058.0  8580.0   \n",
       "Price        550.0     13.100000     10.842262     0.0     7.0    11.0   \n",
       "Year         550.0   2014.000000      3.165156  2009.0  2011.0  2014.0   \n",
       "\n",
       "                  75%      max  \n",
       "User Rating      4.80      4.9  \n",
       "Reviews      17253.25  87841.0  \n",
       "Price           16.00    105.0  \n",
       "Year          2017.00   2019.0  "
      ]
     },
     "execution_count": 4,
     "metadata": {},
     "output_type": "execute_result"
    }
   ],
   "source": [
    "df.describe().T"
   ]
  },
  {
   "cell_type": "code",
   "execution_count": 5,
   "id": "5d97639f",
   "metadata": {
    "execution": {
     "iopub.execute_input": "2021-09-03T14:11:23.735011Z",
     "iopub.status.busy": "2021-09-03T14:11:23.734076Z",
     "iopub.status.idle": "2021-09-03T14:11:23.750131Z",
     "shell.execute_reply": "2021-09-03T14:11:23.750671Z",
     "shell.execute_reply.started": "2021-09-03T14:04:06.633899Z"
    },
    "papermill": {
     "duration": 0.04081,
     "end_time": "2021-09-03T14:11:23.750865",
     "exception": false,
     "start_time": "2021-09-03T14:11:23.710055",
     "status": "completed"
    },
    "tags": []
   },
   "outputs": [
    {
     "name": "stdout",
     "output_type": "stream",
     "text": [
      "<class 'pandas.core.frame.DataFrame'>\n",
      "RangeIndex: 550 entries, 0 to 549\n",
      "Data columns (total 7 columns):\n",
      " #   Column       Non-Null Count  Dtype  \n",
      "---  ------       --------------  -----  \n",
      " 0   Name         550 non-null    object \n",
      " 1   Author       550 non-null    object \n",
      " 2   User Rating  550 non-null    float64\n",
      " 3   Reviews      550 non-null    int64  \n",
      " 4   Price        550 non-null    int64  \n",
      " 5   Year         550 non-null    int64  \n",
      " 6   Genre        550 non-null    object \n",
      "dtypes: float64(1), int64(3), object(3)\n",
      "memory usage: 30.2+ KB\n"
     ]
    }
   ],
   "source": [
    "#information about data\n",
    "df.info()"
   ]
  },
  {
   "cell_type": "code",
   "execution_count": 6,
   "id": "afb224db",
   "metadata": {
    "execution": {
     "iopub.execute_input": "2021-09-03T14:11:23.798263Z",
     "iopub.status.busy": "2021-09-03T14:11:23.797621Z",
     "iopub.status.idle": "2021-09-03T14:11:23.800102Z",
     "shell.execute_reply": "2021-09-03T14:11:23.800511Z",
     "shell.execute_reply.started": "2021-09-03T14:04:06.651411Z"
    },
    "papermill": {
     "duration": 0.028683,
     "end_time": "2021-09-03T14:11:23.800683",
     "exception": false,
     "start_time": "2021-09-03T14:11:23.772000",
     "status": "completed"
    },
    "tags": []
   },
   "outputs": [
    {
     "data": {
      "text/plain": [
       "(550, 7)"
      ]
     },
     "execution_count": 6,
     "metadata": {},
     "output_type": "execute_result"
    }
   ],
   "source": [
    "df.shape"
   ]
  },
  {
   "cell_type": "code",
   "execution_count": 7,
   "id": "7f9ca4ef",
   "metadata": {
    "execution": {
     "iopub.execute_input": "2021-09-03T14:11:23.851448Z",
     "iopub.status.busy": "2021-09-03T14:11:23.850732Z",
     "iopub.status.idle": "2021-09-03T14:11:23.853641Z",
     "shell.execute_reply": "2021-09-03T14:11:23.854080Z",
     "shell.execute_reply.started": "2021-09-03T14:04:06.658684Z"
    },
    "papermill": {
     "duration": 0.032237,
     "end_time": "2021-09-03T14:11:23.854261",
     "exception": false,
     "start_time": "2021-09-03T14:11:23.822024",
     "status": "completed"
    },
    "tags": []
   },
   "outputs": [
    {
     "data": {
      "text/plain": [
       "Name           0\n",
       "Author         0\n",
       "User Rating    0\n",
       "Reviews        0\n",
       "Price          0\n",
       "Year           0\n",
       "Genre          0\n",
       "dtype: int64"
      ]
     },
     "execution_count": 7,
     "metadata": {},
     "output_type": "execute_result"
    }
   ],
   "source": [
    "#checking if there are missing values\n",
    "df.isnull().sum()"
   ]
  },
  {
   "cell_type": "markdown",
   "id": "c0a913c9",
   "metadata": {
    "papermill": {
     "duration": 0.021956,
     "end_time": "2021-09-03T14:11:23.898038",
     "exception": false,
     "start_time": "2021-09-03T14:11:23.876082",
     "status": "completed"
    },
    "tags": []
   },
   "source": [
    "The data has no missing value."
   ]
  },
  {
   "cell_type": "code",
   "execution_count": 8,
   "id": "5e40f173",
   "metadata": {
    "execution": {
     "iopub.execute_input": "2021-09-03T14:11:23.945253Z",
     "iopub.status.busy": "2021-09-03T14:11:23.944573Z",
     "iopub.status.idle": "2021-09-03T14:11:23.951768Z",
     "shell.execute_reply": "2021-09-03T14:11:23.952318Z",
     "shell.execute_reply.started": "2021-09-03T14:04:06.677812Z"
    },
    "papermill": {
     "duration": 0.032459,
     "end_time": "2021-09-03T14:11:23.952472",
     "exception": false,
     "start_time": "2021-09-03T14:11:23.920013",
     "status": "completed"
    },
    "tags": []
   },
   "outputs": [
    {
     "data": {
      "text/plain": [
       "(351, 7)"
      ]
     },
     "execution_count": 8,
     "metadata": {},
     "output_type": "execute_result"
    }
   ],
   "source": [
    "#Dropping duplicate values\n",
    "df.drop_duplicates(subset='Name', inplace=True)\n",
    "df.shape"
   ]
  },
  {
   "cell_type": "code",
   "execution_count": 9,
   "id": "42a02d66",
   "metadata": {
    "execution": {
     "iopub.execute_input": "2021-09-03T14:11:23.999587Z",
     "iopub.status.busy": "2021-09-03T14:11:23.999004Z",
     "iopub.status.idle": "2021-09-03T14:11:24.014268Z",
     "shell.execute_reply": "2021-09-03T14:11:24.014769Z",
     "shell.execute_reply.started": "2021-09-03T14:04:06.692830Z"
    },
    "papermill": {
     "duration": 0.040262,
     "end_time": "2021-09-03T14:11:24.014941",
     "exception": false,
     "start_time": "2021-09-03T14:11:23.974679",
     "status": "completed"
    },
    "tags": []
   },
   "outputs": [
    {
     "data": {
      "text/html": [
       "<div>\n",
       "<style scoped>\n",
       "    .dataframe tbody tr th:only-of-type {\n",
       "        vertical-align: middle;\n",
       "    }\n",
       "\n",
       "    .dataframe tbody tr th {\n",
       "        vertical-align: top;\n",
       "    }\n",
       "\n",
       "    .dataframe thead th {\n",
       "        text-align: right;\n",
       "    }\n",
       "</style>\n",
       "<table border=\"1\" class=\"dataframe\">\n",
       "  <thead>\n",
       "    <tr style=\"text-align: right;\">\n",
       "      <th></th>\n",
       "      <th>Name</th>\n",
       "      <th>Author</th>\n",
       "      <th>User Rating</th>\n",
       "      <th>Reviews</th>\n",
       "      <th>Price</th>\n",
       "      <th>Year</th>\n",
       "      <th>Genre</th>\n",
       "    </tr>\n",
       "  </thead>\n",
       "  <tbody>\n",
       "    <tr>\n",
       "      <th>534</th>\n",
       "      <td>Where the Crawdads Sing</td>\n",
       "      <td>Delia Owens</td>\n",
       "      <td>4.8</td>\n",
       "      <td>87841</td>\n",
       "      <td>15</td>\n",
       "      <td>2019</td>\n",
       "      <td>Fiction</td>\n",
       "    </tr>\n",
       "    <tr>\n",
       "      <th>382</th>\n",
       "      <td>The Girl on the Train</td>\n",
       "      <td>Paula Hawkins</td>\n",
       "      <td>4.1</td>\n",
       "      <td>79446</td>\n",
       "      <td>18</td>\n",
       "      <td>2015</td>\n",
       "      <td>Fiction</td>\n",
       "    </tr>\n",
       "    <tr>\n",
       "      <th>32</th>\n",
       "      <td>Becoming</td>\n",
       "      <td>Michelle Obama</td>\n",
       "      <td>4.8</td>\n",
       "      <td>61133</td>\n",
       "      <td>11</td>\n",
       "      <td>2018</td>\n",
       "      <td>Non Fiction</td>\n",
       "    </tr>\n",
       "    <tr>\n",
       "      <th>135</th>\n",
       "      <td>Gone Girl</td>\n",
       "      <td>Gillian Flynn</td>\n",
       "      <td>4.0</td>\n",
       "      <td>57271</td>\n",
       "      <td>10</td>\n",
       "      <td>2012</td>\n",
       "      <td>Fiction</td>\n",
       "    </tr>\n",
       "    <tr>\n",
       "      <th>365</th>\n",
       "      <td>The Fault in Our Stars</td>\n",
       "      <td>John Green</td>\n",
       "      <td>4.7</td>\n",
       "      <td>50482</td>\n",
       "      <td>13</td>\n",
       "      <td>2012</td>\n",
       "      <td>Fiction</td>\n",
       "    </tr>\n",
       "    <tr>\n",
       "      <th>437</th>\n",
       "      <td>The Nightingale: A Novel</td>\n",
       "      <td>Kristin Hannah</td>\n",
       "      <td>4.8</td>\n",
       "      <td>49288</td>\n",
       "      <td>11</td>\n",
       "      <td>2015</td>\n",
       "      <td>Fiction</td>\n",
       "    </tr>\n",
       "    <tr>\n",
       "      <th>106</th>\n",
       "      <td>Fifty Shades of Grey: Book One of the Fifty Sh...</td>\n",
       "      <td>E L James</td>\n",
       "      <td>3.8</td>\n",
       "      <td>47265</td>\n",
       "      <td>14</td>\n",
       "      <td>2012</td>\n",
       "      <td>Fiction</td>\n",
       "    </tr>\n",
       "    <tr>\n",
       "      <th>433</th>\n",
       "      <td>The Martian</td>\n",
       "      <td>Andy Weir</td>\n",
       "      <td>4.7</td>\n",
       "      <td>39459</td>\n",
       "      <td>9</td>\n",
       "      <td>2015</td>\n",
       "      <td>Fiction</td>\n",
       "    </tr>\n",
       "    <tr>\n",
       "      <th>20</th>\n",
       "      <td>All the Light We Cannot See</td>\n",
       "      <td>Anthony Doerr</td>\n",
       "      <td>4.6</td>\n",
       "      <td>36348</td>\n",
       "      <td>14</td>\n",
       "      <td>2014</td>\n",
       "      <td>Fiction</td>\n",
       "    </tr>\n",
       "    <tr>\n",
       "      <th>338</th>\n",
       "      <td>The Alchemist</td>\n",
       "      <td>Paulo Coelho</td>\n",
       "      <td>4.7</td>\n",
       "      <td>35799</td>\n",
       "      <td>39</td>\n",
       "      <td>2014</td>\n",
       "      <td>Fiction</td>\n",
       "    </tr>\n",
       "  </tbody>\n",
       "</table>\n",
       "</div>"
      ],
      "text/plain": [
       "                                                  Name          Author  \\\n",
       "534                            Where the Crawdads Sing     Delia Owens   \n",
       "382                              The Girl on the Train   Paula Hawkins   \n",
       "32                                            Becoming  Michelle Obama   \n",
       "135                                          Gone Girl   Gillian Flynn   \n",
       "365                             The Fault in Our Stars      John Green   \n",
       "437                           The Nightingale: A Novel  Kristin Hannah   \n",
       "106  Fifty Shades of Grey: Book One of the Fifty Sh...       E L James   \n",
       "433                                        The Martian       Andy Weir   \n",
       "20                         All the Light We Cannot See   Anthony Doerr   \n",
       "338                                      The Alchemist    Paulo Coelho   \n",
       "\n",
       "     User Rating  Reviews  Price  Year        Genre  \n",
       "534          4.8    87841     15  2019      Fiction  \n",
       "382          4.1    79446     18  2015      Fiction  \n",
       "32           4.8    61133     11  2018  Non Fiction  \n",
       "135          4.0    57271     10  2012      Fiction  \n",
       "365          4.7    50482     13  2012      Fiction  \n",
       "437          4.8    49288     11  2015      Fiction  \n",
       "106          3.8    47265     14  2012      Fiction  \n",
       "433          4.7    39459      9  2015      Fiction  \n",
       "20           4.6    36348     14  2014      Fiction  \n",
       "338          4.7    35799     39  2014      Fiction  "
      ]
     },
     "execution_count": 9,
     "metadata": {},
     "output_type": "execute_result"
    }
   ],
   "source": [
    "#most reviewed books\n",
    "top_10=df.sort_values(\"Reviews\",ascending=False)[:10]\n",
    "top_10"
   ]
  },
  {
   "cell_type": "code",
   "execution_count": 10,
   "id": "6e079623",
   "metadata": {
    "execution": {
     "iopub.execute_input": "2021-09-03T14:11:24.066552Z",
     "iopub.status.busy": "2021-09-03T14:11:24.065909Z",
     "iopub.status.idle": "2021-09-03T14:11:24.225133Z",
     "shell.execute_reply": "2021-09-03T14:11:24.224484Z",
     "shell.execute_reply.started": "2021-09-03T14:04:06.722442Z"
    },
    "papermill": {
     "duration": 0.187254,
     "end_time": "2021-09-03T14:11:24.225261",
     "exception": false,
     "start_time": "2021-09-03T14:11:24.038007",
     "status": "completed"
    },
    "tags": []
   },
   "outputs": [
    {
     "data": {
      "text/plain": [
       "<AxesSubplot:ylabel='Genre'>"
      ]
     },
     "execution_count": 10,
     "metadata": {},
     "output_type": "execute_result"
    },
    {
     "data": {
      "image/png": "[encoded data removed]",
      "text/plain": [
       "<Figure size 432x288 with 1 Axes>"
      ]
     },
     "metadata": {},
     "output_type": "display_data"
    }
   ],
   "source": [
    "df[\"Genre\"].value_counts().plot(kind=\"pie\", autopct='%.2f',labels=df[\"Genre\"].unique())"
   ]
  },
  {
   "cell_type": "markdown",
   "id": "44ac21cd",
   "metadata": {
    "papermill": {
     "duration": 0.02394,
     "end_time": "2021-09-03T14:11:24.273464",
     "exception": false,
     "start_time": "2021-09-03T14:11:24.249524",
     "status": "completed"
    },
    "tags": []
   },
   "source": [
    "56.36% of the books are not fiction while 43.64 of them are fictions."
   ]
  },
  {
   "cell_type": "code",
   "execution_count": 11,
   "id": "e89ae270",
   "metadata": {
    "execution": {
     "iopub.execute_input": "2021-09-03T14:11:24.330383Z",
     "iopub.status.busy": "2021-09-03T14:11:24.329724Z",
     "iopub.status.idle": "2021-09-03T14:11:24.554428Z",
     "shell.execute_reply": "2021-09-03T14:11:24.555104Z",
     "shell.execute_reply.started": "2021-09-03T14:04:06.832668Z"
    },
    "papermill": {
     "duration": 0.258739,
     "end_time": "2021-09-03T14:11:24.555269",
     "exception": false,
     "start_time": "2021-09-03T14:11:24.296530",
     "status": "completed"
    },
    "tags": []
   },
   "outputs": [
    {
     "data": {
      "text/plain": [
       "<AxesSubplot:xlabel='User Rating', ylabel='count'>"
      ]
     },
     "execution_count": 11,
     "metadata": {},
     "output_type": "execute_result"
    },
    {
     "data": {
      "image/png": "[encoded data removed]",
      "text/plain": [
       "<Figure size 432x288 with 1 Axes>"
      ]
     },
     "metadata": {
      "needs_background": "light"
     },
     "output_type": "display_data"
    }
   ],
   "source": [
    "sns.countplot(x=df[\"User Rating\"])"
   ]
  },
  {
   "cell_type": "markdown",
   "id": "b17cd901",
   "metadata": {
    "papermill": {
     "duration": 0.024511,
     "end_time": "2021-09-03T14:11:24.604152",
     "exception": false,
     "start_time": "2021-09-03T14:11:24.579641",
     "status": "completed"
    },
    "tags": []
   },
   "source": [
    "Most books are high-rated."
   ]
  },
  {
   "cell_type": "markdown",
   "id": "91f2ed72",
   "metadata": {
    "papermill": {
     "duration": 0.024065,
     "end_time": "2021-09-03T14:11:24.652755",
     "exception": false,
     "start_time": "2021-09-03T14:11:24.628690",
     "status": "completed"
    },
    "tags": []
   },
   "source": [
    "# Best Sellers Authors with the highest rate"
   ]
  },
  {
   "cell_type": "code",
   "execution_count": 12,
   "id": "279cdd14",
   "metadata": {
    "execution": {
     "iopub.execute_input": "2021-09-03T14:11:24.708460Z",
     "iopub.status.busy": "2021-09-03T14:11:24.707799Z",
     "iopub.status.idle": "2021-09-03T14:11:24.721237Z",
     "shell.execute_reply": "2021-09-03T14:11:24.720710Z",
     "shell.execute_reply.started": "2021-09-03T14:04:07.088089Z"
    },
    "papermill": {
     "duration": 0.04427,
     "end_time": "2021-09-03T14:11:24.721366",
     "exception": false,
     "start_time": "2021-09-03T14:11:24.677096",
     "status": "completed"
    },
    "tags": []
   },
   "outputs": [
    {
     "data": {
      "text/html": [
       "<div>\n",
       "<style scoped>\n",
       "    .dataframe tbody tr th:only-of-type {\n",
       "        vertical-align: middle;\n",
       "    }\n",
       "\n",
       "    .dataframe tbody tr th {\n",
       "        vertical-align: top;\n",
       "    }\n",
       "\n",
       "    .dataframe thead th {\n",
       "        text-align: right;\n",
       "    }\n",
       "</style>\n",
       "<table border=\"1\" class=\"dataframe\">\n",
       "  <thead>\n",
       "    <tr style=\"text-align: right;\">\n",
       "      <th></th>\n",
       "      <th>Author</th>\n",
       "      <th>User Rating</th>\n",
       "    </tr>\n",
       "  </thead>\n",
       "  <tbody>\n",
       "    <tr>\n",
       "      <th>0</th>\n",
       "      <td>Alice Schertle</td>\n",
       "      <td>4.9</td>\n",
       "    </tr>\n",
       "    <tr>\n",
       "      <th>1</th>\n",
       "      <td>Bill Martin Jr.</td>\n",
       "      <td>4.9</td>\n",
       "    </tr>\n",
       "    <tr>\n",
       "      <th>2</th>\n",
       "      <td>Brandon Stanton</td>\n",
       "      <td>4.9</td>\n",
       "    </tr>\n",
       "    <tr>\n",
       "      <th>3</th>\n",
       "      <td>Chip Gaines</td>\n",
       "      <td>4.9</td>\n",
       "    </tr>\n",
       "    <tr>\n",
       "      <th>4</th>\n",
       "      <td>Dav Pilkey</td>\n",
       "      <td>4.9</td>\n",
       "    </tr>\n",
       "    <tr>\n",
       "      <th>5</th>\n",
       "      <td>Dr. Seuss</td>\n",
       "      <td>4.9</td>\n",
       "    </tr>\n",
       "    <tr>\n",
       "      <th>6</th>\n",
       "      <td>Emily Winfield Martin</td>\n",
       "      <td>4.9</td>\n",
       "    </tr>\n",
       "    <tr>\n",
       "      <th>7</th>\n",
       "      <td>Eric Carle</td>\n",
       "      <td>4.9</td>\n",
       "    </tr>\n",
       "    <tr>\n",
       "      <th>8</th>\n",
       "      <td>J. K. Rowling</td>\n",
       "      <td>4.9</td>\n",
       "    </tr>\n",
       "    <tr>\n",
       "      <th>9</th>\n",
       "      <td>J.K. Rowling</td>\n",
       "      <td>4.9</td>\n",
       "    </tr>\n",
       "    <tr>\n",
       "      <th>10</th>\n",
       "      <td>Jeff Kinney</td>\n",
       "      <td>4.9</td>\n",
       "    </tr>\n",
       "    <tr>\n",
       "      <th>11</th>\n",
       "      <td>Jill Twiss</td>\n",
       "      <td>4.9</td>\n",
       "    </tr>\n",
       "    <tr>\n",
       "      <th>12</th>\n",
       "      <td>Lin-Manuel Miranda</td>\n",
       "      <td>4.9</td>\n",
       "    </tr>\n",
       "    <tr>\n",
       "      <th>13</th>\n",
       "      <td>Mark R. Levin</td>\n",
       "      <td>4.9</td>\n",
       "    </tr>\n",
       "    <tr>\n",
       "      <th>14</th>\n",
       "      <td>Nathan W. Pyle</td>\n",
       "      <td>4.9</td>\n",
       "    </tr>\n",
       "    <tr>\n",
       "      <th>15</th>\n",
       "      <td>Patrick Thorpe</td>\n",
       "      <td>4.9</td>\n",
       "    </tr>\n",
       "    <tr>\n",
       "      <th>16</th>\n",
       "      <td>Pete Souza</td>\n",
       "      <td>4.9</td>\n",
       "    </tr>\n",
       "    <tr>\n",
       "      <th>17</th>\n",
       "      <td>Rush Limbaugh</td>\n",
       "      <td>4.9</td>\n",
       "    </tr>\n",
       "    <tr>\n",
       "      <th>18</th>\n",
       "      <td>Sarah Young</td>\n",
       "      <td>4.9</td>\n",
       "    </tr>\n",
       "    <tr>\n",
       "      <th>19</th>\n",
       "      <td>Sherri Duskey Rinker</td>\n",
       "      <td>4.9</td>\n",
       "    </tr>\n",
       "  </tbody>\n",
       "</table>\n",
       "</div>"
      ],
      "text/plain": [
       "                   Author  User Rating\n",
       "0          Alice Schertle          4.9\n",
       "1         Bill Martin Jr.          4.9\n",
       "2         Brandon Stanton          4.9\n",
       "3             Chip Gaines          4.9\n",
       "4              Dav Pilkey          4.9\n",
       "5               Dr. Seuss          4.9\n",
       "6   Emily Winfield Martin          4.9\n",
       "7              Eric Carle          4.9\n",
       "8           J. K. Rowling          4.9\n",
       "9            J.K. Rowling          4.9\n",
       "10            Jeff Kinney          4.9\n",
       "11             Jill Twiss          4.9\n",
       "12     Lin-Manuel Miranda          4.9\n",
       "13          Mark R. Levin          4.9\n",
       "14         Nathan W. Pyle          4.9\n",
       "15         Patrick Thorpe          4.9\n",
       "16             Pete Souza          4.9\n",
       "17          Rush Limbaugh          4.9\n",
       "18            Sarah Young          4.9\n",
       "19   Sherri Duskey Rinker          4.9"
      ]
     },
     "execution_count": 12,
     "metadata": {},
     "output_type": "execute_result"
    }
   ],
   "source": [
    "best_sellers = df[df[\"User Rating\"]==4.9]\n",
    "best_sellers=best_sellers.groupby(\"Author\")[\"User Rating\"].mean().reset_index()\n",
    "best_sellers"
   ]
  },
  {
   "cell_type": "markdown",
   "id": "79057abd",
   "metadata": {
    "papermill": {
     "duration": 0.024897,
     "end_time": "2021-09-03T14:11:24.771853",
     "exception": false,
     "start_time": "2021-09-03T14:11:24.746956",
     "status": "completed"
    },
    "tags": []
   },
   "source": [
    "I wonder if there is a correlation between user ratings-prices and user ratings-reviews."
   ]
  },
  {
   "cell_type": "code",
   "execution_count": 13,
   "id": "c9b0bd09",
   "metadata": {
    "execution": {
     "iopub.execute_input": "2021-09-03T14:11:24.829991Z",
     "iopub.status.busy": "2021-09-03T14:11:24.829095Z",
     "iopub.status.idle": "2021-09-03T14:11:24.833249Z",
     "shell.execute_reply": "2021-09-03T14:11:24.832765Z",
     "shell.execute_reply.started": "2021-09-03T14:04:07.108921Z"
    },
    "papermill": {
     "duration": 0.036398,
     "end_time": "2021-09-03T14:11:24.833375",
     "exception": false,
     "start_time": "2021-09-03T14:11:24.796977",
     "status": "completed"
    },
    "tags": []
   },
   "outputs": [
    {
     "data": {
      "text/plain": [
       "-0.034787133322032926"
      ]
     },
     "execution_count": 13,
     "metadata": {},
     "output_type": "execute_result"
    }
   ],
   "source": [
    "cor_df=df.corr()\n",
    "cor_df.loc[\"User Rating\", \"Price\"]"
   ]
  },
  {
   "cell_type": "markdown",
   "id": "136f9f66",
   "metadata": {
    "papermill": {
     "duration": 0.025058,
     "end_time": "2021-09-03T14:11:24.884755",
     "exception": false,
     "start_time": "2021-09-03T14:11:24.859697",
     "status": "completed"
    },
    "tags": []
   },
   "source": [
    "there is no correlation between ratings and prices of the books."
   ]
  },
  {
   "cell_type": "code",
   "execution_count": 14,
   "id": "3c03a04a",
   "metadata": {
    "execution": {
     "iopub.execute_input": "2021-09-03T14:11:24.938691Z",
     "iopub.status.busy": "2021-09-03T14:11:24.938084Z",
     "iopub.status.idle": "2021-09-03T14:11:24.944679Z",
     "shell.execute_reply": "2021-09-03T14:11:24.944130Z",
     "shell.execute_reply.started": "2021-09-03T14:04:07.123712Z"
    },
    "papermill": {
     "duration": 0.03459,
     "end_time": "2021-09-03T14:11:24.944817",
     "exception": false,
     "start_time": "2021-09-03T14:11:24.910227",
     "status": "completed"
    },
    "tags": []
   },
   "outputs": [
    {
     "data": {
      "text/plain": [
       "-0.055595314468530735"
      ]
     },
     "execution_count": 14,
     "metadata": {},
     "output_type": "execute_result"
    }
   ],
   "source": [
    "cor_df.loc[\"User Rating\", \"Reviews\"]"
   ]
  },
  {
   "cell_type": "markdown",
   "id": "0aae9753",
   "metadata": {
    "papermill": {
     "duration": 0.025613,
     "end_time": "2021-09-03T14:11:24.997049",
     "exception": false,
     "start_time": "2021-09-03T14:11:24.971436",
     "status": "completed"
    },
    "tags": []
   },
   "source": [
    "there is no correlation between ratings and reviews of the books either."
   ]
  },
  {
   "cell_type": "markdown",
   "id": "8b7234d7",
   "metadata": {
    "papermill": {
     "duration": 0.025612,
     "end_time": "2021-09-03T14:11:25.048878",
     "exception": false,
     "start_time": "2021-09-03T14:11:25.023266",
     "status": "completed"
    },
    "tags": []
   },
   "source": [
    "# Average price of the bestelling books between 2009-2019"
   ]
  },
  {
   "cell_type": "code",
   "execution_count": 15,
   "id": "9ff0104a",
   "metadata": {
    "execution": {
     "iopub.execute_input": "2021-09-03T14:11:25.119336Z",
     "iopub.status.busy": "2021-09-03T14:11:25.118288Z",
     "iopub.status.idle": "2021-09-03T14:11:25.122133Z",
     "shell.execute_reply": "2021-09-03T14:11:25.122593Z",
     "shell.execute_reply.started": "2021-09-03T14:04:07.141059Z"
    },
    "papermill": {
     "duration": 0.047498,
     "end_time": "2021-09-03T14:11:25.122770",
     "exception": false,
     "start_time": "2021-09-03T14:11:25.075272",
     "status": "completed"
    },
    "tags": []
   },
   "outputs": [
    {
     "data": {
      "text/html": [
       "<div>\n",
       "<style scoped>\n",
       "    .dataframe tbody tr th:only-of-type {\n",
       "        vertical-align: middle;\n",
       "    }\n",
       "\n",
       "    .dataframe tbody tr th {\n",
       "        vertical-align: top;\n",
       "    }\n",
       "\n",
       "    .dataframe thead th {\n",
       "        text-align: right;\n",
       "    }\n",
       "</style>\n",
       "<table border=\"1\" class=\"dataframe\">\n",
       "  <thead>\n",
       "    <tr style=\"text-align: right;\">\n",
       "      <th></th>\n",
       "      <th>User Rating</th>\n",
       "      <th>Reviews</th>\n",
       "      <th>Price</th>\n",
       "      <th>Year</th>\n",
       "    </tr>\n",
       "  </thead>\n",
       "  <tbody>\n",
       "    <tr>\n",
       "      <th>0</th>\n",
       "      <td>4.584000</td>\n",
       "      <td>4710.120000</td>\n",
       "      <td>15.400000</td>\n",
       "      <td>2009</td>\n",
       "    </tr>\n",
       "    <tr>\n",
       "      <th>1</th>\n",
       "      <td>4.567500</td>\n",
       "      <td>5233.075000</td>\n",
       "      <td>13.275000</td>\n",
       "      <td>2010</td>\n",
       "    </tr>\n",
       "    <tr>\n",
       "      <th>2</th>\n",
       "      <td>4.532258</td>\n",
       "      <td>7292.774194</td>\n",
       "      <td>14.290323</td>\n",
       "      <td>2011</td>\n",
       "    </tr>\n",
       "    <tr>\n",
       "      <th>3</th>\n",
       "      <td>4.482143</td>\n",
       "      <td>14283.357143</td>\n",
       "      <td>14.321429</td>\n",
       "      <td>2012</td>\n",
       "    </tr>\n",
       "    <tr>\n",
       "      <th>4</th>\n",
       "      <td>4.587879</td>\n",
       "      <td>11280.303030</td>\n",
       "      <td>14.363636</td>\n",
       "      <td>2013</td>\n",
       "    </tr>\n",
       "    <tr>\n",
       "      <th>5</th>\n",
       "      <td>4.648148</td>\n",
       "      <td>11956.074074</td>\n",
       "      <td>12.148148</td>\n",
       "      <td>2014</td>\n",
       "    </tr>\n",
       "    <tr>\n",
       "      <th>6</th>\n",
       "      <td>4.623333</td>\n",
       "      <td>13206.433333</td>\n",
       "      <td>10.066667</td>\n",
       "      <td>2015</td>\n",
       "    </tr>\n",
       "    <tr>\n",
       "      <th>7</th>\n",
       "      <td>4.692857</td>\n",
       "      <td>9780.428571</td>\n",
       "      <td>14.892857</td>\n",
       "      <td>2016</td>\n",
       "    </tr>\n",
       "    <tr>\n",
       "      <th>8</th>\n",
       "      <td>4.655556</td>\n",
       "      <td>10865.666667</td>\n",
       "      <td>11.666667</td>\n",
       "      <td>2017</td>\n",
       "    </tr>\n",
       "    <tr>\n",
       "      <th>9</th>\n",
       "      <td>4.646667</td>\n",
       "      <td>12646.033333</td>\n",
       "      <td>10.366667</td>\n",
       "      <td>2018</td>\n",
       "    </tr>\n",
       "    <tr>\n",
       "      <th>10</th>\n",
       "      <td>4.729630</td>\n",
       "      <td>12258.777778</td>\n",
       "      <td>11.037037</td>\n",
       "      <td>2019</td>\n",
       "    </tr>\n",
       "  </tbody>\n",
       "</table>\n",
       "</div>"
      ],
      "text/plain": [
       "    User Rating       Reviews      Price  Year\n",
       "0      4.584000   4710.120000  15.400000  2009\n",
       "1      4.567500   5233.075000  13.275000  2010\n",
       "2      4.532258   7292.774194  14.290323  2011\n",
       "3      4.482143  14283.357143  14.321429  2012\n",
       "4      4.587879  11280.303030  14.363636  2013\n",
       "5      4.648148  11956.074074  12.148148  2014\n",
       "6      4.623333  13206.433333  10.066667  2015\n",
       "7      4.692857   9780.428571  14.892857  2016\n",
       "8      4.655556  10865.666667  11.666667  2017\n",
       "9      4.646667  12646.033333  10.366667  2018\n",
       "10     4.729630  12258.777778  11.037037  2019"
      ]
     },
     "execution_count": 15,
     "metadata": {},
     "output_type": "execute_result"
    }
   ],
   "source": [
    "p_mean=df.groupby(\"Year\").mean()\n",
    "p_mean['Year'] = [2009, 2010, 2011, 2012, 2013, 2014, 2015, 2016, 2017, 2018, 2019]\n",
    "p_mean.reset_index(drop=True, inplace=True)\n",
    "p_mean"
   ]
  },
  {
   "cell_type": "code",
   "execution_count": 16,
   "id": "41299940",
   "metadata": {
    "execution": {
     "iopub.execute_input": "2021-09-03T14:11:25.205921Z",
     "iopub.status.busy": "2021-09-03T14:11:25.204977Z",
     "iopub.status.idle": "2021-09-03T14:11:25.492329Z",
     "shell.execute_reply": "2021-09-03T14:11:25.491501Z",
     "shell.execute_reply.started": "2021-09-03T14:04:07.174727Z"
    },
    "papermill": {
     "duration": 0.343403,
     "end_time": "2021-09-03T14:11:25.492529",
     "exception": false,
     "start_time": "2021-09-03T14:11:25.149126",
     "status": "completed"
    },
    "tags": []
   },
   "outputs": [
    {
     "data": {
      "text/plain": [
       "<AxesSubplot:xlabel='Year', ylabel='Price'>"
      ]
     },
     "execution_count": 16,
     "metadata": {},
     "output_type": "execute_result"
    },
    {
     "data": {
      "image/png": "[encoded data removed]",
      "text/plain": [
       "<Figure size 432x288 with 1 Axes>"
      ]
     },
     "metadata": {
      "needs_background": "light"
     },
     "output_type": "display_data"
    }
   ],
   "source": [
    "sns.regplot(x=\"Year\", y=\"Price\",data=p_mean)"
   ]
  },
  {
   "cell_type": "markdown",
   "id": "0f430106",
   "metadata": {
    "papermill": {
     "duration": 0.038149,
     "end_time": "2021-09-03T14:11:25.563918",
     "exception": false,
     "start_time": "2021-09-03T14:11:25.525769",
     "status": "completed"
    },
    "tags": []
   },
   "source": [
    "looking at the regression plot, average price for bestselling books is falling over year by year."
   ]
  },
  {
   "cell_type": "code",
   "execution_count": 17,
   "id": "1a580a36",
   "metadata": {
    "execution": {
     "iopub.execute_input": "2021-09-03T14:11:25.665632Z",
     "iopub.status.busy": "2021-09-03T14:11:25.646731Z",
     "iopub.status.idle": "2021-09-03T14:11:29.240963Z",
     "shell.execute_reply": "2021-09-03T14:11:29.241456Z",
     "shell.execute_reply.started": "2021-09-03T14:04:07.493114Z"
    },
    "papermill": {
     "duration": 3.649479,
     "end_time": "2021-09-03T14:11:29.241618",
     "exception": false,
     "start_time": "2021-09-03T14:11:25.592139",
     "status": "completed"
    },
    "tags": []
   },
   "outputs": [
    {
     "data": {
      "text/plain": [
       "<seaborn.axisgrid.PairGrid at 0x7ff817430cd0>"
      ]
     },
     "execution_count": 17,
     "metadata": {},
     "output_type": "execute_result"
    },
    {
     "data": {
      "image/png": "[encoded data removed]",
      "text/plain": [
       "<Figure size 720x720 with 20 Axes>"
      ]
     },
     "metadata": {
      "needs_background": "light"
     },
     "output_type": "display_data"
    }
   ],
   "source": [
    "sns.pairplot(df)"
   ]
  },
  {
   "cell_type": "markdown",
   "id": "b01952e4",
   "metadata": {
    "papermill": {
     "duration": 0.031627,
     "end_time": "2021-09-03T14:11:29.305717",
     "exception": false,
     "start_time": "2021-09-03T14:11:29.274090",
     "status": "completed"
    },
    "tags": []
   },
   "source": [
    "The pairplot shows us that there is not really any correlation between variables."
   ]
  }
 ],
 "metadata": {
  "kernelspec": {
   "display_name": "Python 3",
   "language": "python",
   "name": "python3"
  },
  "language_info": {
   "codemirror_mode": {
    "name": "ipython",
    "version": 3
   },
   "file_extension": ".py",
   "mimetype": "text/x-python",
   "name": "python",
   "nbconvert_exporter": "python",
   "pygments_lexer": "ipython3",
   "version": "3.7.10"
  },
  "papermill": {
   "default_parameters": {},
   "duration": 17.801678,
   "end_time": "2021-09-03T14:11:30.960154",
   "environment_variables": {},
   "exception": null,
   "input_path": "__notebook__.ipynb",
   "output_path": "__notebook__.ipynb",
   "parameters": {},
   "start_time": "2021-09-03T14:11:13.158476",
   "version": "2.3.3"
  }
 },
 "nbformat": 4,
 "nbformat_minor": 5
}
